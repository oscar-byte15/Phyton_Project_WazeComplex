{
  "nbformat": 4,
  "nbformat_minor": 0,
  "metadata": {
    "colab": {
      "name": "MAPS.ipynb",
      "provenance": [],
      "collapsed_sections": [
        "rdPNXFH5essP",
        "F1p7UhsvkRNT",
        "J0b-KrPix_58",
        "rxPsDAM35t5d",
        "ZaJHYPk9cw41",
        "RGur0l6rdqAS"
      ],
      "authorship_tag": "ABX9TyPsRQDzg5fkSevCXuDOWOEI",
      "include_colab_link": true
    },
    "kernelspec": {
      "name": "python3",
      "display_name": "Python 3"
    },
    "language_info": {
      "name": "python"
    }
  },
  "cells": [
    {
      "cell_type": "markdown",
      "metadata": {
        "id": "view-in-github",
        "colab_type": "text"
      },
      "source": [
        "<a href=\"https://colab.research.google.com/github/gonzalobarrazueta/TF-20181e098-20191a972-201920156/blob/main/MAPS.ipynb\" target=\"_parent\"><img src=\"https://colab.research.google.com/assets/colab-badge.svg\" alt=\"Open In Colab\"/></a>"
      ]
    },
    {
      "cell_type": "markdown",
      "source": [
        "##**Imports**"
      ],
      "metadata": {
        "id": "rdPNXFH5essP"
      }
    },
    {
      "cell_type": "code",
      "source": [
        "# Perlin Noise\n",
        "!pip install perlin_noise\n",
        "import matplotlib.pyplot as plt\n",
        "import numpy as np\n",
        "from perlin_noise import PerlinNoise\n",
        "# ------------\n",
        "import csv\n",
        "import json\n",
        "# Sección Aristas\n",
        "from datetime import datetime\n",
        "from math import radians, cos, sin, asin, sqrt\n",
        "import random\n",
        "# Dijkstra/Priority Queue\n",
        "import heapq as hq\n",
        "import math\n",
        "# ------------\n",
        "import numpy as np\n",
        "import graphviz as gv #sirve para dibujar grafos"
      ],
      "metadata": {
        "id": "Ft_WMWjKegCO",
        "colab": {
          "base_uri": "https://localhost:8080/"
        },
        "outputId": "96fd1fd9-8ef6-4517-9fa1-e3e80b90efb4"
      },
      "execution_count": 1,
      "outputs": [
        {
          "output_type": "stream",
          "name": "stdout",
          "text": [
            "Looking in indexes: https://pypi.org/simple, https://us-python.pkg.dev/colab-wheels/public/simple/\n",
            "Collecting perlin_noise\n",
            "  Downloading perlin_noise-1.12-py3-none-any.whl (5.3 kB)\n",
            "Installing collected packages: perlin-noise\n",
            "Successfully installed perlin-noise-1.12\n"
          ]
        }
      ]
    },
    {
      "cell_type": "markdown",
      "source": [
        "##**Diccionario de calles**\n",
        "Crea un diccionario donde cada nombre de calle ***(key)*** tiene asignado un `id` ***(value)***"
      ],
      "metadata": {
        "id": "F1p7UhsvkRNT"
      }
    },
    {
      "cell_type": "code",
      "source": [
        "def addKey_Values(dictionary, key, value):\n",
        "    dictionary[key] = value"
      ],
      "metadata": {
        "id": "qvn_alN-9gkk"
      },
      "execution_count": 2,
      "outputs": []
    },
    {
      "cell_type": "code",
      "source": [
        "def printDictionary(dictionary):\n",
        "    for k, v in dictionary.items():\n",
        "        print(f\"{k}: {v}\")"
      ],
      "metadata": {
        "id": "LE5QHCb5pbNy"
      },
      "execution_count": 3,
      "outputs": []
    },
    {
      "cell_type": "code",
      "source": [
        "def cargarDatos(dictionary):\n",
        "    with open('Calles de San Martín de Porres.csv') as file: \n",
        "        reader = csv.reader(file)\n",
        "        \n",
        "        for id, row in enumerate(reader):\n",
        "            addKey_Values(dictionary, row[0].lower(), id)"
      ],
      "metadata": {
        "id": "aBWrVHPpFxBC"
      },
      "execution_count": 4,
      "outputs": []
    },
    {
      "cell_type": "code",
      "source": [
        "def createStreetsDictionary():   \n",
        "    streets = {}\n",
        "    cargarDatos(streets)\n",
        "    return streets"
      ],
      "metadata": {
        "id": "HQAcMl46rQlA"
      },
      "execution_count": 5,
      "outputs": []
    },
    {
      "cell_type": "code",
      "source": [
        "streetsDictionary = createStreetsDictionary()"
      ],
      "metadata": {
        "id": "KjmA0jq_Im3f"
      },
      "execution_count": 6,
      "outputs": []
    },
    {
      "cell_type": "markdown",
      "source": [
        "##**Lista de Adyacencia de calles y sus intersecciones**\n",
        "\n",
        "\n"
      ],
      "metadata": {
        "id": "J0b-KrPix_58"
      }
    },
    {
      "cell_type": "code",
      "source": [
        "def printAdList(graph): \n",
        "    for i, intersection in enumerate(graph):\n",
        "        print(i, intersection)\n",
        "    \n",
        "    print(f\"Cantidad de vértices = {len(graph)}\")"
      ],
      "metadata": {
        "id": "Gaop7miPqVSA"
      },
      "execution_count": 7,
      "outputs": []
    },
    {
      "cell_type": "code",
      "source": [
        "def streetExists(streetName):\n",
        "    if streetName in streetsDictionary:\n",
        "        id = streetsDictionary[streetName]\n",
        "    else:\n",
        "        id = -1 # la calle no está mapeada\n",
        "    return id"
      ],
      "metadata": {
        "id": "5hBrXQFU4geG"
      },
      "execution_count": 8,
      "outputs": []
    },
    {
      "cell_type": "code",
      "source": [
        "# adjacencyList: arreglo de arreglos, donde la pos del primer elemento (1er arreglo)\n",
        "# es la calle y el arreglo son todas las calles con las que se intersecta\n",
        "def createAdjacencyList(adjacencyList):\n",
        "    with open('Calles de San Martín de Porres.csv') as file: \n",
        "        reader = csv.reader(file)\n",
        "        for row in reader:  \n",
        "            intersections = []\n",
        "            for i in range(len(row)):\n",
        "                if i != 0:\n",
        "                    intersections.append(streetExists(row[i].lower()))\n",
        "            adjacencyList.append(intersections)\n",
        "\n",
        "    return adjacencyList"
      ],
      "metadata": {
        "id": "ZTtbPcxvVxvy"
      },
      "execution_count": 9,
      "outputs": []
    },
    {
      "cell_type": "code",
      "source": [
        "# creal la lista de adyacencia\n",
        "intersectionsAdList = createAdjacencyList([])"
      ],
      "metadata": {
        "id": "jdBc97CMMN2v"
      },
      "execution_count": 10,
      "outputs": []
    },
    {
      "cell_type": "markdown",
      "source": [
        "##**Lista de Adyacencia de intersecciones (Grafo Principal)**"
      ],
      "metadata": {
        "id": "rxPsDAM35t5d"
      }
    },
    {
      "cell_type": "code",
      "source": [
        "def createKeys(graph):\n",
        "    intersectionsIDs = {}\n",
        "\n",
        "    for i in range(len(graph)):\n",
        "        for street in graph[i]:\n",
        "            # si las keys aún no han sido creadas, las agrega al diccionario\n",
        "            if (i, street) not in intersectionsIDs and street != -1:\n",
        "                intersectionsIDs[(i, street)] = []\n",
        "\n",
        "    return intersectionsIDs"
      ],
      "metadata": {
        "id": "LCoD5Unynb4n"
      },
      "execution_count": 11,
      "outputs": []
    },
    {
      "cell_type": "code",
      "source": [
        "def addIntersections(graph, i, j):  \n",
        "    street = graph[i][j]\n",
        "\n",
        "    if street != -1:\n",
        "        # agrego la intersección már próxima hacia la izquierda\n",
        "        if j > 0 and graph[i][j - 1] != -1:\n",
        "            tup = (i, graph[i][j - 1])\n",
        "            map[(i, street)].append(tup)\n",
        "\n",
        "        # agrego la intersección már próxima hacia la derecha\n",
        "        if j < len(graph[i]) - 1 and graph[i][j + 1] != -1:\n",
        "            tup = (i, graph[i][j + 1])\n",
        "            map[(i, street)].append(tup)"
      ],
      "metadata": {
        "id": "1qBKJ3lsAg2O"
      },
      "execution_count": 12,
      "outputs": []
    },
    {
      "cell_type": "code",
      "source": [
        "def addIntersectionsReversed(graph, i, j):  \n",
        "    street = graph[i][j]\n",
        "\n",
        "    # ahora voy al reverso de la lista\n",
        "    if i != -1 and street != -1:\n",
        "        if (street < len(graph)) and (i in graph[street]):\n",
        "            tup = (street, i)\n",
        "            map[(i, street)].append(tup)\n",
        "            \n",
        "            k = graph[street].index(i) # k = 2\n",
        "\n",
        "            if k > 0 and graph[street][k - 1] != -1:\n",
        "                tup = (street, graph[street][k - 1])\n",
        "                map[(i, street)].append(tup)\n",
        "        \n",
        "            if k < len(graph[street]) - 1 and graph[street][k + 1] != -1:\n",
        "                tup = (street, graph[street][k + 1])\n",
        "                map[(i, street)].append(tup)"
      ],
      "metadata": {
        "id": "S9CGv6Fy-CN9"
      },
      "execution_count": 13,
      "outputs": []
    },
    {
      "cell_type": "code",
      "source": [
        "def joinIntersections(graph):\n",
        "    n = len(graph)\n",
        "    for i in range(n):        \n",
        "        for j in range(len(graph[i])):\n",
        "            addIntersections(graph, i, j)\n",
        "            addIntersectionsReversed(graph, i, j)"
      ],
      "metadata": {
        "id": "kZCXXHwk50Ho"
      },
      "execution_count": 14,
      "outputs": []
    },
    {
      "cell_type": "code",
      "source": [
        "# calcula el total de nodos solo par el grafo \"map\"\n",
        "def totalNodes(graph):\n",
        "    total = 0 \n",
        "    for key, value in graph.items():\n",
        "        total += len(value)\n",
        "    return total"
      ],
      "metadata": {
        "id": "B35aNBmhPfn6"
      },
      "execution_count": 15,
      "outputs": []
    },
    {
      "cell_type": "code",
      "source": [
        "# grafo principal\n",
        "map = createKeys(intersectionsAdList)\n",
        "joinIntersections(intersectionsAdList)"
      ],
      "metadata": {
        "id": "rZ0K3Io2RT03"
      },
      "execution_count": 16,
      "outputs": []
    },
    {
      "cell_type": "markdown",
      "source": [
        "##**Diccionario de Latitudes, Longitudes y `ids` para cada intersección**"
      ],
      "metadata": {
        "id": "ZaJHYPk9cw41"
      }
    },
    {
      "cell_type": "code",
      "source": [
        "def formatearLatitudeorLongitude(input):\n",
        "    separar = input\n",
        "    separar = separar.split(\".\");\n",
        "\n",
        "    union= separar[0]+\".\"+separar[1]+separar[2];\n",
        "    variable_float = float(union)\n",
        "\n",
        "    return variable_float"
      ],
      "metadata": {
        "id": "xyOaIL8JORiw"
      },
      "execution_count": 17,
      "outputs": []
    },
    {
      "cell_type": "code",
      "source": [
        "# devuelve solo la latitud y longitud, no el id\n",
        "def getOnlyLatLong(key):\n",
        "    return (latlong[key][0], latlong[key][1])"
      ],
      "metadata": {
        "id": "_BXYBWwSO8XU"
      },
      "execution_count": 18,
      "outputs": []
    },
    {
      "cell_type": "code",
      "source": [
        "def getInterId(key):\n",
        "    return latlong[key][2]"
      ],
      "metadata": {
        "id": "WZUSbZaDba-l"
      },
      "execution_count": 19,
      "outputs": []
    },
    {
      "cell_type": "code",
      "source": [
        "def createLatLongDictionary(latlong):\n",
        "    with open(\"Latitud y Longitud de calles.csv\") as file: \n",
        "        reader = csv.reader(file)      \n",
        "        # ignora el header (la 1era fila del csv)\n",
        "        next(reader)\n",
        "        # se le asignará un id a cada vértice\n",
        "        id = 0\n",
        "        for row in reader:\n",
        "            # busco el id de la calle en mi diccionario de calles \n",
        "            intersection = streetExists(row[0]), streetExists(row[1])\n",
        "            if intersection in map:\n",
        "                latlong[intersection] = formatearLatitudeorLongitude(row[2]), formatearLatitudeorLongitude(row[3]), id\n",
        "                id += 1\n",
        "    return latlong"
      ],
      "metadata": {
        "id": "cC3C0s5FcwJV"
      },
      "execution_count": 20,
      "outputs": []
    },
    {
      "cell_type": "code",
      "source": [
        "latlong = createLatLongDictionary({})"
      ],
      "metadata": {
        "id": "uZQqqGcK7xLY"
      },
      "execution_count": 21,
      "outputs": []
    },
    {
      "cell_type": "code",
      "source": [
        "printDictionary(latlong)"
      ],
      "metadata": {
        "id": "tSsWK3sKURQd"
      },
      "execution_count": null,
      "outputs": []
    },
    {
      "cell_type": "markdown",
      "source": [
        "##**Agregar valores aleatorios**\n",
        "Agregar valores aleatorios al grafo principal (`map`). Los valores random fueron generados con Perlin Noise"
      ],
      "metadata": {
        "id": "-ZG6JQ2ifOrS"
      }
    },
    {
      "cell_type": "code",
      "source": [
        "def getGraphSize(graph):\n",
        "    return len(graph)"
      ],
      "metadata": {
        "id": "kBypqO76vt23"
      },
      "execution_count": 22,
      "outputs": []
    },
    {
      "cell_type": "code",
      "source": [
        "def perlinNoise():\n",
        "    # tamaño de cada de arreglo\n",
        "    xpix = 10\n",
        "    # cantidad de arreglos\n",
        "    ypix = getGraphSize(map)\n",
        "    noise = PerlinNoise(octaves=5, seed=1)\n",
        "    pic = [[noise([i/xpix, j/ypix]) for j in range(xpix)] for i in range(ypix)]\n",
        "\n",
        "    return np.array(np.array(pic)*100, dtype=int)"
      ],
      "metadata": {
        "id": "-3SW4_Ujrnck"
      },
      "execution_count": 23,
      "outputs": []
    },
    {
      "cell_type": "code",
      "source": [
        "randValues = perlinNoise()"
      ],
      "metadata": {
        "id": "05u_uiNMUtsb"
      },
      "execution_count": null,
      "outputs": []
    },
    {
      "cell_type": "code",
      "source": [
        "def sameNode(n1, n2):\n",
        "    x1, y1 = n1\n",
        "    x2, y2 = n2\n",
        "\n",
        "    if (x1 == y2) and (y1 == x2):\n",
        "        return True\n",
        "    return False"
      ],
      "metadata": {
        "id": "-XikbU4tT_nd"
      },
      "execution_count": 24,
      "outputs": []
    },
    {
      "cell_type": "code",
      "source": [
        "def hasAzero(list_randValues):\n",
        "    if 0 in list_randValues:\n",
        "        return True\n",
        "    return False"
      ],
      "metadata": {
        "id": "ExCUOUqTWvTF"
      },
      "execution_count": 215,
      "outputs": []
    },
    {
      "cell_type": "code",
      "source": [
        "def getListRandValues(n):\n",
        "    r = random.randrange(0, n)\n",
        "    \n",
        "    #while hasAzero(randValues[r]) == True:\n",
        "    while sum(randValues[r]) == 0:\n",
        "        r = random.randrange(0, n)\n",
        "        \n",
        "    return list(randValues[r])"
      ],
      "metadata": {
        "id": "CZvUIaoJDY7w"
      },
      "execution_count": 214,
      "outputs": []
    },
    {
      "cell_type": "code",
      "source": [
        "def getPositive(num):\n",
        "    if num < 0:\n",
        "        return num * -1\n",
        "    else:\n",
        "        return num"
      ],
      "metadata": {
        "id": "HllBWXD9oIoY"
      },
      "execution_count": 26,
      "outputs": []
    },
    {
      "cell_type": "code",
      "source": [
        "# agrega un valor random (generado con perlin noise) al diccionario de lat y longs\n",
        "def addRandValue(dictionary):\n",
        "\n",
        "    randv = getListRandValues(len(latlong))\n",
        "\n",
        "    for key, value in map.items():\n",
        "        l = []\n",
        "        for u in value:\n",
        "            if sameNode(key, u):\n",
        "                u += (0,)      \n",
        "                l.append(u)\n",
        "                continue\n",
        "\n",
        "            if len(randv) > 0:\n",
        "                u += (getPositive(randv.pop()),)\n",
        "            else:\n",
        "                randv = getListRandValues(len(latlong))\n",
        "                u += (getPositive(randv.pop()),)\n",
        "            l.append(u)\n",
        "        dictionary[key] = l\n",
        "    return dictionary"
      ],
      "metadata": {
        "id": "mTU94o9rqj7R"
      },
      "execution_count": 68,
      "outputs": []
    },
    {
      "cell_type": "code",
      "source": [
        "map2 = addRandValue({})"
      ],
      "metadata": {
        "id": "Nft9FRBEUfnv"
      },
      "execution_count": 69,
      "outputs": []
    },
    {
      "cell_type": "code",
      "source": [
        "printDictionary(map2)"
      ],
      "metadata": {
        "id": "kbG4Et9SWR6S"
      },
      "execution_count": null,
      "outputs": []
    },
    {
      "cell_type": "markdown",
      "source": [
        "##**Escribir archivos**"
      ],
      "metadata": {
        "id": "RGur0l6rdqAS"
      }
    },
    {
      "cell_type": "code",
      "source": [
        "def writeNodes():\n",
        "    with open(\"nodes.txt\", \"w\") as f:\n",
        "        with open('Calles de San Martín de Porres.csv') as file: \n",
        "            reader = csv.reader(file)\n",
        "\n",
        "            for row in reader:\n",
        "                for i in range(1, len(row)):                    \n",
        "                    f.write(f\"{row[0]}, {row[i]}\\n\")\n",
        "writeNodes()"
      ],
      "metadata": {
        "id": "E_-CDP5DXzNX"
      },
      "execution_count": 28,
      "outputs": []
    },
    {
      "cell_type": "code",
      "source": [
        "# Streets Dictionary\n",
        "def writeStreetsDictionary():\n",
        "    with open(\"streetNames.txt\", \"w\") as f:\n",
        "        for key, value in streetsDictionary.items():\n",
        "            f.write(key + \"\\n\")\n",
        "writeStreetsDictionary()"
      ],
      "metadata": {
        "id": "SE4BMbtDdoFl"
      },
      "execution_count": 29,
      "outputs": []
    },
    {
      "cell_type": "code",
      "source": [
        "# Intersections Adjacency List\n",
        "def writeStreetsAdList():\n",
        "    with open(\"streetsAdList.txt\", \"w\") as f:\n",
        "        for streets in intersectionsAdList:\n",
        "            for i in range(len(streets)):\n",
        "                streets[i] = str(streets[i])    \n",
        "            f.write(', '.join(streets) + \"\\n\")        \n",
        "writeStreetsAdList()"
      ],
      "metadata": {
        "id": "gOBUCQUcl5Ay"
      },
      "execution_count": 30,
      "outputs": []
    },
    {
      "cell_type": "code",
      "source": [
        "# Write street map\n",
        "def writeStreetMap():\n",
        "    with open(\"map.txt\", \"w\") as f:  \n",
        "        for key, value in map.items():\n",
        "            listWOCommas = (str(value).strip('[]')).replace(\",\", \"\")\n",
        "            f.write(str(key) + \" \" + listWOCommas + '\\n')\n",
        "writeStreetMap()"
      ],
      "metadata": {
        "id": "wQy0a94GsHFk"
      },
      "execution_count": 31,
      "outputs": []
    },
    {
      "cell_type": "markdown",
      "source": [
        "##**Aristas**"
      ],
      "metadata": {
        "id": "rxtXFDrBSOma"
      }
    },
    {
      "cell_type": "code",
      "source": [
        "# devuelve el tiempo actual automáticamente\n",
        "def getCurrentTime():\n",
        "\n",
        "    now = datetime.now()\n",
        "    time = now.strftime(\"%H %p\")\n",
        "    time = time.split(\" \")\n",
        "\n",
        "    # convierto la hora a la timezone de Perú\n",
        "    if time[0] <= \"5\":\n",
        "        time[0] = 24 - (5 - int(time[0]))\n",
        "    else:\n",
        "        time[0] = int(time[0]) - 5\n",
        "    \n",
        "    return str(time[0])\n",
        "\n",
        "def askTime():\n",
        "    time = int(input(\"Digite la hora en formato de 24hrs: \"));\n",
        "    if time not in range(0, 24):\n",
        "        time = askTime() \n",
        "    return time"
      ],
      "metadata": {
        "id": "Erj9KyTfVgbd"
      },
      "execution_count": 181,
      "outputs": []
    },
    {
      "cell_type": "code",
      "source": [
        "def getlongitude(n1, n2):\n",
        "    lon1,lat1=n1\n",
        "    lon2,lat2=n2\n",
        "    if lon1 == lat2 and lon2 == lat1:\n",
        "      longitude = 0\n",
        "    else:\n",
        "      lon1 = radians(lon1)\n",
        "      lon2 = radians(lon2)\n",
        "      lat1 = radians(lat1)\n",
        "      lat2 = radians(lat2)\n",
        "      dlon = lon2 - lon1\n",
        "      dlat = lat2 - lat1\n",
        "      a = sin(dlat / 2)**2 + cos(lat1) * cos(lat2) * sin(dlon / 2)**2\n",
        "      c = 2 * asin(sqrt(a)) \n",
        "      r = 6371\n",
        "      longitude = c * r\n",
        "    \n",
        "    return longitude"
      ],
      "metadata": {
        "id": "ROBaiwsgb3RA"
      },
      "execution_count": 182,
      "outputs": []
    },
    {
      "cell_type": "code",
      "source": [
        "def point_percent(time):\n",
        "    percent = 0\n",
        "    # de 0am - 4am\n",
        "    if time in range(0, 5):\n",
        "        percent = 0.1\n",
        "    \n",
        "    # de 5am - 8am\n",
        "    if time in range(5, 9):\n",
        "        percent = 0.9\n",
        "\n",
        "    # de 9am - 16pm\n",
        "    if time in range(9, 18):\n",
        "        percent = 0.5\n",
        "\n",
        "    # de 18pm - 20pm\n",
        "    if time in range(18, 21):\n",
        "        percent = 1.3\n",
        "\n",
        "    # de 21pm - 23pm\n",
        "    if time in range(21, 23):\n",
        "        percent = 0.3\n",
        "\n",
        "    return percent"
      ],
      "metadata": {
        "id": "-W8AtKaEKlR0"
      },
      "execution_count": 183,
      "outputs": []
    },
    {
      "cell_type": "code",
      "source": [
        "def getFactor(time, val):\n",
        "    # el factor está en el rango de 0 - 50\n",
        "    # dependiendo de la hora, mi valor va estar en un determinado rango\n",
        "    # puntos por hora\n",
        "    # índice: hora, elemento: puntaje\n",
        "                 # 0  1  2  3  4  5  6   7   8   9   10  11  12  13  14  15  16  17  18  19  20  21  22  23  \n",
        "    time_points = [0, 1, 1, 1, 2, 3, 15, 19, 17, 14, 13, 10, 10, 11, 12, 13, 14, 16, 17, 20, 19, 15, 4, 2]\n",
        "\n",
        "    percent = point_percent(time)\n",
        "    factor = int((val * percent) + time_points[time])\n",
        "\n",
        "    if factor > 50:\n",
        "        factor = 50\n",
        "\n",
        "    return factor"
      ],
      "metadata": {
        "id": "cHcovThSvPoR"
      },
      "execution_count": 184,
      "outputs": []
    },
    {
      "cell_type": "code",
      "source": [
        "def calculateWeight(n1, n2, time, val):  \n",
        "    longitude = getlongitude(n1, n2) * 100\n",
        "    factor = getFactor(time, val)\n",
        "    \n",
        "    weight = (longitude * factor) \n",
        "\n",
        "    if longitude > 0:\n",
        "        weight = round(factor + longitude, 2)\n",
        "    \n",
        "    if (weight > 100):\n",
        "        return 99\n",
        "    else:\n",
        "        return int(weight)"
      ],
      "metadata": {
        "id": "H4mEZNHBbe_g"
      },
      "execution_count": 185,
      "outputs": []
    },
    {
      "cell_type": "code",
      "source": [
        "# el nuevo grafo será un diccionario, donde cada \"key\" contiene 1 arreglo \n",
        "# cada arreglo contiene varios tuples con el id de la arista y el peso del vértice a la arista\n",
        "\n",
        "def updateGraph():\n",
        "    time = askTime()\n",
        "\n",
        "    # map con pesos\n",
        "    mapW = {}\n",
        "    for key in map2:\n",
        "        if key in latlong:\n",
        "            k = getInterId(key)\n",
        "            mapW[k] = []\n",
        "        else:\n",
        "            continue\n",
        "        for arista in map2[key]:\n",
        "            edge = (arista[0], arista[1])\n",
        "            if edge in latlong:\n",
        "                weight = calculateWeight(getOnlyLatLong(key), getOnlyLatLong(edge), time, arista[2])\n",
        "                # (intersección, peso)\n",
        "                if weight == 0: continue\n",
        "                mapW[k].append((getInterId(edge), weight))\n",
        "        mapW[k]\n",
        "    return mapW"
      ],
      "metadata": {
        "id": "B6zdJ6h98DzB"
      },
      "execution_count": 186,
      "outputs": []
    },
    {
      "cell_type": "code",
      "source": [
        "def getMaxKey(G):\n",
        "    return max(G, key = G.get)"
      ],
      "metadata": {
        "id": "mw1ivyAxNHV8"
      },
      "execution_count": 187,
      "outputs": []
    },
    {
      "cell_type": "code",
      "source": [
        "mapW = updateGraph()"
      ],
      "metadata": {
        "id": "-y3Nkfsy5rzN",
        "colab": {
          "base_uri": "https://localhost:8080/"
        },
        "outputId": "68995132-16d0-4001-8b9c-9f1dc4aecb50"
      },
      "execution_count": 188,
      "outputs": [
        {
          "name": "stdout",
          "output_type": "stream",
          "text": [
            "Digite la hora en formato de 24hrs: 3\n"
          ]
        }
      ]
    },
    {
      "cell_type": "markdown",
      "source": [
        "##**Shortest Paths**\n",
        "Encuentra el camino más corto entre 2 puntos"
      ],
      "metadata": {
        "id": "PmA29J3M6qzb"
      }
    },
    {
      "cell_type": "code",
      "source": [
        "def getMin(a):\n",
        "    min = a[0][1]\n",
        "    index = 0\n",
        "    for i, c in enumerate(a):\n",
        "        if c[1] < min:\n",
        "            min = c[1]\n",
        "            index = i\n",
        "    return a.pop(index)"
      ],
      "metadata": {
        "id": "k6n2a403Jr0g"
      },
      "execution_count": 203,
      "outputs": []
    },
    {
      "cell_type": "code",
      "source": [
        "# d: destination\n",
        "# p: path\n",
        "def definePath(d, path):\n",
        "    g = []\n",
        "    g.append(d)\n",
        "\n",
        "    while path[d] != -1:\n",
        "        destination = path[d]\n",
        "        g.insert(0, destination)\n",
        "        d = destination\n",
        "    return g"
      ],
      "metadata": {
        "id": "nLntY2XNYPS-"
      },
      "execution_count": 204,
      "outputs": []
    },
    {
      "cell_type": "code",
      "source": [
        "# uses dijkstra\n",
        "def findShortestPath(graph, s, ignore):\n",
        "    n = len(graph)\n",
        "    path = [-1] * n\n",
        "    visited = [False] * n\n",
        "    visited[ignore] = True\n",
        "    \n",
        "    cost = [math.inf] * n\n",
        "    cost[s] = 0\n",
        "\n",
        "    # priority queue\n",
        "    # vértice, peso\n",
        "    priorityq = [(s, 0)]\n",
        "\n",
        "    while priorityq:\n",
        "        # vértice, peso\n",
        "        u, g = getMin(priorityq)\n",
        "        if not visited[u]:\n",
        "            visited[u] = True\n",
        "        for v, w in graph[u]:\n",
        "            if not visited[v]:\n",
        "                weight = g + w\n",
        "                if weight < cost[v]:\n",
        "                    cost[v] = weight\n",
        "                    path[v] = u\n",
        "                    priorityq.append((v, weight))\n",
        "    return path, cost"
      ],
      "metadata": {
        "id": "_6aTAqNBIRCH"
      },
      "execution_count": 205,
      "outputs": []
    },
    {
      "cell_type": "code",
      "source": [
        "# s: source\n",
        "# d: destiny\n",
        "def getDirections(s, d, graph):\n",
        "    neighbours = graph[s]\n",
        "    paths = []\n",
        "    costs = []\n",
        "\n",
        "    for n in neighbours:\n",
        "        path, cost = findShortestPath(mapW, n[0], s)\n",
        "        path = definePath(d, path)\n",
        "        path.insert(0, s)\n",
        "        paths.append(path)\n",
        "        costs.append(cost[d])\n",
        "    return paths, costs"
      ],
      "metadata": {
        "id": "VQbwi0TedaKM"
      },
      "execution_count": 206,
      "outputs": []
    },
    {
      "cell_type": "code",
      "source": [
        "def getBestPaths(paths, costs):\n",
        "    bestCosts = [(i, x) for i, x in enumerate(costs)]\n",
        "    bestCosts.sort(key=lambda x:x[1])\n",
        "    \n",
        "    n = len(bestCosts)\n",
        "    if n > 3:\n",
        "        bestCosts = [bestCosts[i] for i in range(3)]\n",
        "    else:\n",
        "        bestCosts = [bestCosts[i] for i in range(n)]\n",
        "\n",
        "    bestPaths = [paths[c[0]] for c in bestCosts]\n",
        "    \n",
        "    return bestPaths"
      ],
      "metadata": {
        "id": "HqA1qB0MT_MJ"
      },
      "execution_count": 207,
      "outputs": []
    },
    {
      "cell_type": "code",
      "source": [
        "# si el costo es inf, significa que no existe un camino\n",
        "def aPathExists(paths, costs):\n",
        "    for i, cost in enumerate(costs):\n",
        "        if cost == float('Inf'):\n",
        "            paths[i] = []"
      ],
      "metadata": {
        "id": "U5ePBwi32JuF"
      },
      "execution_count": 208,
      "outputs": []
    },
    {
      "cell_type": "code",
      "source": [
        "def deleteInvalidPaths(paths, costs):\n",
        "    for i, p in enumerate(paths):\n",
        "        if p == []:\n",
        "            paths.pop(i)\n",
        "            costs.pop(i)"
      ],
      "metadata": {
        "id": "7bnfMUXi6BMW"
      },
      "execution_count": 209,
      "outputs": []
    },
    {
      "cell_type": "code",
      "source": [
        "# desde donde quiero empezar a buscar\n",
        "source = 10\n",
        "# a donde quiero llegar\n",
        "destination = 27\n",
        "paths, costs = getDirections(source, destination, mapW)\n",
        "\n",
        "# elimina caminos inválidos (no existentes)\n",
        "aPathExists(paths, costs)\n",
        "deleteInvalidPaths(paths, costs)\n",
        "\n",
        "# retorna los mejores caminos\n",
        "paths = getBestPaths(paths, costs)\n",
        "costs.sort()"
      ],
      "metadata": {
        "id": "KfPMfGg7YUUn"
      },
      "execution_count": 210,
      "outputs": []
    },
    {
      "cell_type": "code",
      "source": [
        "print(paths, costs)"
      ],
      "metadata": {
        "colab": {
          "base_uri": "https://localhost:8080/"
        },
        "id": "k37TvRfxEuc5",
        "outputId": "cd55a988-3c06-43e1-fcdc-4e56461133ec"
      },
      "execution_count": 211,
      "outputs": [
        {
          "output_type": "stream",
          "name": "stdout",
          "text": [
            "[[10, 55, 54, 27], [10, 57, 75, 121, 120, 65, 54, 27], [10, 9, 8, 7, 26, 27]] [77, 106, 133]\n"
          ]
        }
      ]
    },
    {
      "cell_type": "markdown",
      "source": [
        "##**Visualizaciones**\n",
        "Aquí se encuentra todo el código para escribir los datos en el formato necesario para que puedan ser graficados."
      ],
      "metadata": {
        "id": "eJ4G34oZ9seb"
      }
    },
    {
      "cell_type": "code",
      "source": [
        "def latlongGraph(dictionary):\n",
        "    n = len(dictionary) + 10\n",
        "    latlongs = [()] * n\n",
        "    \n",
        "    for key, value in dictionary.items():\n",
        "        latlongs[dictionary[key][2]] = dictionary[key][0] * -1, dictionary[key][1] * -1\n",
        "\n",
        "    return latlongs"
      ],
      "metadata": {
        "id": "wGgicQDDDjdX"
      },
      "execution_count": 179,
      "outputs": []
    },
    {
      "cell_type": "code",
      "source": [
        "printAdList(latlongGraph(latlong))"
      ],
      "metadata": {
        "id": "VpsUG1DpzKyw"
      },
      "execution_count": null,
      "outputs": []
    },
    {
      "cell_type": "code",
      "source": [
        "def getGraph(graph):\n",
        "    n = len(graph) + 10\n",
        "    G = [[(510, 0)]] * n\n",
        "\n",
        "    for key, value in graph.items():\n",
        "        G[key] = value\n",
        "    return G"
      ],
      "metadata": {
        "id": "JL2fE5a6Knf-"
      },
      "execution_count": 202,
      "outputs": []
    },
    {
      "cell_type": "code",
      "source": [
        "# loc, G\n",
        "latlongs = latlongGraph(latlong); graph = getGraph(mapW)"
      ],
      "metadata": {
        "id": "x2F8dDKNEO-A"
      },
      "execution_count": 199,
      "outputs": []
    },
    {
      "cell_type": "code",
      "source": [
        "print(latlongs)\n",
        "print(graph)"
      ],
      "metadata": {
        "id": "IkXUZ9U653fE"
      },
      "execution_count": null,
      "outputs": []
    }
  ]
}